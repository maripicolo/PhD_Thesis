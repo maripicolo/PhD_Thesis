{
 "cells": [
  {
   "cell_type": "markdown",
   "id": "1d9742cc-64b5-447a-bf18-77cff53c471c",
   "metadata": {},
   "source": [
    "# Programa para validar precipitação acumulada simulada. Validacao feita com dados de pluviometros e MERGE.\n",
    "## Os dados foram interpolados para uma mesma grade de 0.01 x 0.01o para o calculo dos indices\n",
    "## Interpolacao dos dados dos pluviometros utilizando interpolacao IDW\n",
    "## Indices estisticos:\n",
    "### Viés\n",
    "### RMSE\n",
    "### Coeficiente de correlacao de Spearman\n",
    "#### OBS: Os indices tambem foram calculados utilizando o ponto mais proximo das estacoes (pluviometros)\n",
    "#### OBS 2: o programa Regrid_BRAMS_MERGE.ipynb mostra a interpolacao feita com os dados simulados e do MERGE"
   ]
  },
  {
   "cell_type": "code",
   "execution_count": 1,
   "id": "23a950c3-cd6b-4387-9b7c-9083001210f2",
   "metadata": {},
   "outputs": [
    {
     "name": "stdout",
     "output_type": "stream",
     "text": [
      "Pysteps configuration file found at: /home/mariana/anaconda3/envs/python39/lib/python3.9/site-packages/pysteps/pystepsrc\n",
      "\n"
     ]
    }
   ],
   "source": [
    "import numpy as np\n",
    "import pandas as pd\n",
    "from pysteps import verification\n",
    "import xarray as xr"
   ]
  },
  {
   "cell_type": "code",
   "execution_count": 2,
   "id": "c6a19555-04f8-47a9-ae3e-db3bf738a972",
   "metadata": {},
   "outputs": [],
   "source": [
    "# Leitura dos dados dos pluvimetros\n",
    "dados = pd.read_table('filename.txt', sep='\\s+')\n",
    "# Leitura dos dados interpolados da simulacao \n",
    "model_interp = xr.open_dataset('filename.nc')\n",
    "var_model = model_interp['precip'].values\n",
    "# Leitura dos dados simulados sem interpolacao\n",
    "model = xr.open_dataset('filename.nc')\n",
    "precip_model = model['precip'].sel(lat=slice(-23.87, -23.15), lon=slice(-47.08, -46.0))\n",
    "# Leitura dos dados do MERGE\n",
    "merge = xr.open_dataset('filename.nc')\n",
    "var_merge = merge['precip'].values"
   ]
  },
  {
   "cell_type": "code",
   "execution_count": 3,
   "id": "37fbd3c2-e99c-4e09-b236-55995d2abf53",
   "metadata": {},
   "outputs": [],
   "source": [
    "x = dados['Lon']\n",
    "y = dados['Lat']\n",
    "z = dados['Chuva']"
   ]
  },
  {
   "cell_type": "code",
   "execution_count": 4,
   "id": "0c862304-cd6d-4a69-937d-1abc1770906f",
   "metadata": {},
   "outputs": [],
   "source": [
    "# Determinacao da grade para interpolacao\n",
    "xi = np.arange (-47.08, -45.99, 0.01)\n",
    "yi = np.arange (-23.87, -23.22, 0.01)"
   ]
  },
  {
   "cell_type": "code",
   "execution_count": 5,
   "id": "ae4e78af-7921-465c-be07-18b35ffbefcd",
   "metadata": {},
   "outputs": [
    {
     "data": {
      "text/plain": [
       "(109, 66)"
      ]
     },
     "execution_count": 5,
     "metadata": {},
     "output_type": "execute_result"
    }
   ],
   "source": [
    "nx, ny = len(xi),len(yi)\n",
    "nx,ny"
   ]
  },
  {
   "cell_type": "code",
   "execution_count": 6,
   "id": "d53c70d7-6767-4ac5-84c5-b8e4f0ddfbcf",
   "metadata": {},
   "outputs": [],
   "source": [
    "xi,yi = np.meshgrid(xi,yi)\n",
    "xi, yi = xi.flatten(), yi.flatten()"
   ]
  },
  {
   "cell_type": "code",
   "execution_count": 7,
   "id": "f7bfb3c8-f4e8-4110-9946-9d8f51953752",
   "metadata": {},
   "outputs": [],
   "source": [
    "def distance_matrix(x0, y0, x1, y1):\n",
    "    \"\"\" Make a distance matrix between pairwise observations.\n",
    "    Note: from <http://stackoverflow.com/questions/1871536> \n",
    "    \"\"\"\n",
    "    \n",
    "    obs = np.vstack((x0, y0)).T\n",
    "    interp = np.vstack((x1, y1)).T\n",
    "\n",
    "    d0 = np.subtract.outer(obs[:,0], interp[:,0])\n",
    "    d1 = np.subtract.outer(obs[:,1], interp[:,1])\n",
    "    \n",
    "    # calculate hypotenuse\n",
    "    return np.hypot(d0, d1)"
   ]
  },
  {
   "cell_type": "code",
   "execution_count": 8,
   "id": "6912eb4e-988d-452b-893b-9f478e128132",
   "metadata": {},
   "outputs": [],
   "source": [
    "def simple_idw(x, y, z, xi, yi, power=3):\n",
    "    \"\"\" Simple inverse distance weighted (IDW) interpolation \n",
    "    Weights are proportional to the inverse of the distance, so as the distance\n",
    "    increases, the weights decrease rapidly.\n",
    "    The rate at which the weights decrease is dependent on the value of power.\n",
    "    As power increases, the weights for distant points decrease rapidly.\n",
    "    \"\"\"\n",
    "    \n",
    "    dist = distance_matrix(x,y, xi,yi)\n",
    "\n",
    "    # In IDW, weights are 1 / distance\n",
    "    weights = 1.0/(dist+1e-12)**power\n",
    "\n",
    "    # Make weights sum to one\n",
    "    weights /= weights.sum(axis=0)\n",
    "\n",
    "    # Multiply the weights for each interpolated point by all observed Z-values\n",
    "    return np.dot(weights.T, z)"
   ]
  },
  {
   "cell_type": "code",
   "execution_count": 9,
   "id": "0e3aff64-9431-44c3-aece-450716226a3b",
   "metadata": {},
   "outputs": [],
   "source": [
    "grid1 = simple_idw(x,y,z,xi,yi, power=3)\n",
    "grid1 = grid1.reshape((ny, nx))"
   ]
  },
  {
   "cell_type": "code",
   "execution_count": 21,
   "id": "c7614d30-66bf-4d29-8ef1-97dd5e52807d",
   "metadata": {},
   "outputs": [
    {
     "data": {
      "text/plain": [
       "40"
      ]
     },
     "execution_count": 21,
     "metadata": {},
     "output_type": "execute_result"
    }
   ],
   "source": [
    "# Calcula e escreve em um arquivo os indices estatisticos calculados utilizando os dados interpolados dos pluviometros\n",
    "index = verification.detcontscores.det_cont_fct(var_model, grid1)\n",
    "mean_modelo = np.nanmean(var_model)\n",
    "mean_obs = np.nanmean(grid1)\n",
    "std_modelo = np.nanstd(var_model)\n",
    "std_obs = np.nanstd(grid1)\n",
    "f= open(\"Erros_PrecipAcum_Pluviometros.txt\", \"a\")\n",
    "f.write (\"Mean_modelo_interp:\"  + \" \" + str(mean_modelo) + \"\\n\")\n",
    "f.write (\"Mean_obs_interp:\" + \" \" + str(mean_obs) + \"\\n\")\n",
    "f.write (\"Std_modelo_interp:\" + \" \" + str(std_modelo) + \"\\n\")\n",
    "f.write (\"Std_obs_interp:\" + \" \" + str(std_obs) + \"\\n\")\n",
    "f.write (\"BIAS_interp:\" + \" \" + str(index['ME']) + \"\\n\")\n",
    "f.write (\"RMSE_interp:\" + \" \" + str(index['RMSE']) + \"\\n\")\n",
    "f.write (\"Corr_spearman_interp:\" + str(index['corr_s']) + \"\\n\")"
   ]
  },
  {
   "cell_type": "code",
   "execution_count": 23,
   "id": "dfdfe7fd-feae-4305-b984-6188750fcf5c",
   "metadata": {},
   "outputs": [
    {
     "data": {
      "text/html": [
       "<div>\n",
       "<style scoped>\n",
       "    .dataframe tbody tr th:only-of-type {\n",
       "        vertical-align: middle;\n",
       "    }\n",
       "\n",
       "    .dataframe tbody tr th {\n",
       "        vertical-align: top;\n",
       "    }\n",
       "\n",
       "    .dataframe thead th {\n",
       "        text-align: right;\n",
       "    }\n",
       "</style>\n",
       "<table border=\"1\" class=\"dataframe\">\n",
       "  <thead>\n",
       "    <tr style=\"text-align: right;\">\n",
       "      <th></th>\n",
       "      <th>Precip_obs</th>\n",
       "      <th>Precip_brams</th>\n",
       "    </tr>\n",
       "  </thead>\n",
       "  <tbody>\n",
       "    <tr>\n",
       "      <th>0</th>\n",
       "      <td>5.2</td>\n",
       "      <td>0.22273878753185272</td>\n",
       "    </tr>\n",
       "    <tr>\n",
       "      <th>1</th>\n",
       "      <td>0.0</td>\n",
       "      <td>6.134520053863525</td>\n",
       "    </tr>\n",
       "    <tr>\n",
       "      <th>2</th>\n",
       "      <td>0.0</td>\n",
       "      <td>0.8070045113563538</td>\n",
       "    </tr>\n",
       "    <tr>\n",
       "      <th>3</th>\n",
       "      <td>0.0</td>\n",
       "      <td>6.134520053863525</td>\n",
       "    </tr>\n",
       "    <tr>\n",
       "      <th>4</th>\n",
       "      <td>6.4</td>\n",
       "      <td>0.37081480026245117</td>\n",
       "    </tr>\n",
       "    <tr>\n",
       "      <th>...</th>\n",
       "      <td>...</td>\n",
       "      <td>...</td>\n",
       "    </tr>\n",
       "    <tr>\n",
       "      <th>433</th>\n",
       "      <td>0.0</td>\n",
       "      <td>-0.00030046049505472183</td>\n",
       "    </tr>\n",
       "    <tr>\n",
       "      <th>434</th>\n",
       "      <td>0.0</td>\n",
       "      <td>-0.00030046049505472183</td>\n",
       "    </tr>\n",
       "    <tr>\n",
       "      <th>435</th>\n",
       "      <td>0.0</td>\n",
       "      <td>-0.00014337152242660522</td>\n",
       "    </tr>\n",
       "    <tr>\n",
       "      <th>436</th>\n",
       "      <td>1.0</td>\n",
       "      <td>-0.0007658653194084764</td>\n",
       "    </tr>\n",
       "    <tr>\n",
       "      <th>437</th>\n",
       "      <td>0.2</td>\n",
       "      <td>0.008581607602536678</td>\n",
       "    </tr>\n",
       "  </tbody>\n",
       "</table>\n",
       "<p>438 rows × 2 columns</p>\n",
       "</div>"
      ],
      "text/plain": [
       "     Precip_obs             Precip_brams\n",
       "0           5.2      0.22273878753185272\n",
       "1           0.0        6.134520053863525\n",
       "2           0.0       0.8070045113563538\n",
       "3           0.0        6.134520053863525\n",
       "4           6.4      0.37081480026245117\n",
       "..          ...                      ...\n",
       "433         0.0  -0.00030046049505472183\n",
       "434         0.0  -0.00030046049505472183\n",
       "435         0.0  -0.00014337152242660522\n",
       "436         1.0   -0.0007658653194084764\n",
       "437         0.2     0.008581607602536678\n",
       "\n",
       "[438 rows x 2 columns]"
      ]
     },
     "execution_count": 23,
     "metadata": {},
     "output_type": "execute_result"
    }
   ],
   "source": [
    "# Determina o ponto mais proximo na simulacao de cada estacao (pluviometro)\n",
    "dfs = []\n",
    "for i in range (len(dados)):\n",
    "    ds = precip_model.sel(lat=dados['Lat'][i], lon=dados['Lon'][i], method=\"nearest\")\n",
    "#    print(ds)\n",
    "    dfs.append(pd.concat(axis=0, ignore_index=True, objs=[\n",
    "                         pd.DataFrame.from_dict({'Precip_obs': dados['Chuva'][i],\n",
    "                                                 'Precip_brams': [ds.values]\n",
    "                                                })\n",
    "                            ]))\n",
    "df_model = pd.concat(dfs, ignore_index=True)\n",
    "df_model"
   ]
  },
  {
   "cell_type": "code",
   "execution_count": 25,
   "id": "6ce6df05-19f7-4b01-95e1-fd048c292dae",
   "metadata": {},
   "outputs": [
    {
     "data": {
      "text/plain": [
       "34"
      ]
     },
     "execution_count": 25,
     "metadata": {},
     "output_type": "execute_result"
    }
   ],
   "source": [
    "# Calcula e escreve em um arquivo os indices estatisticos calculados utilizando os dados dos pluviometros (sem interpolacao)\n",
    "index = verification.detcontscores.det_cont_fct(df_model['Precip_brams'].astype(float), df_model['Precip_obs'].astype(float))\n",
    "mean_modelo = np.nanmean(df_model['Precip_brams'])\n",
    "mean_obs = np.nanmean(df_model['Precip_obs'])\n",
    "std_modelo = np.nanstd(df_model['Precip_brams'])\n",
    "std_obs = np.nanstd(df_model['Precip_obs'])\n",
    "f= open(\"Erros_PrecipAcum_Pluviometros.txt\", \"a\")\n",
    "f.write (\"Mean_modelo:\"  + \" \" + str(mean_modelo) + \"\\n\")\n",
    "f.write (\"Mean_obs:\" + \" \" + str(mean_obs) + \"\\n\")\n",
    "f.write (\"Std_modelo:\" + \" \" + str(std_modelo) + \"\\n\")\n",
    "f.write (\"Std_obs:\" + \" \" + str(std_obs) + \"\\n\")\n",
    "f.write (\"BIAS:\" + \" \" + str(index['ME']) + \"\\n\")\n",
    "f.write (\"RMSE:\" + \" \" + str(index['RMSE']) + \"\\n\")\n",
    "f.write (\"Corr_spearman:\" + str(index['corr_s']) + \"\\n\")"
   ]
  },
  {
   "cell_type": "code",
   "execution_count": 27,
   "id": "fe76bee3-a3d3-409b-b45d-d7fc7e5e174b",
   "metadata": {},
   "outputs": [
    {
     "data": {
      "text/plain": [
       "34"
      ]
     },
     "execution_count": 27,
     "metadata": {},
     "output_type": "execute_result"
    }
   ],
   "source": [
    "# Calcula e escreve em um arquivo os indices estatisticos calculados utilizando os dados do MERGE\n",
    "index = verification.detcontscores.det_cont_fct(var_model, var_merge)\n",
    "mean_modelo = np.nanmean(var_model)\n",
    "mean_obs = np.nanmean(var_merge)\n",
    "std_modelo = np.nanstd(var_model)\n",
    "std_obs = np.nanstd(var_merge)\n",
    "f= open(\"Erros_PrecipAcum_MERGE.txt\", \"w\")\n",
    "f.write (\"Mean_modelo:\"  + \" \" + str(mean_modelo) + \"\\n\")\n",
    "f.write (\"Mean_obs:\" + \" \" + str(mean_obs) + \"\\n\")\n",
    "f.write (\"Std_modelo:\" + \" \" + str(std_modelo) + \"\\n\")\n",
    "f.write (\"Std_obs:\" + \" \" + str(std_obs) + \"\\n\")\n",
    "f.write (\"BIAS:\" + \" \" + str(index['ME']) + \"\\n\")\n",
    "f.write (\"RMSE:\" + \" \" + str(index['RMSE']) + \"\\n\")\n",
    "f.write (\"Corr_spearman:\" + str(index['corr_s']) + \"\\n\")"
   ]
  },
  {
   "cell_type": "code",
   "execution_count": null,
   "id": "2868fb02-9e1a-4ec2-bfdf-276e6478606b",
   "metadata": {},
   "outputs": [],
   "source": []
  }
 ],
 "metadata": {
  "kernelspec": {
   "display_name": "Python 3 (ipykernel)",
   "language": "python",
   "name": "python3"
  },
  "language_info": {
   "codemirror_mode": {
    "name": "ipython",
    "version": 3
   },
   "file_extension": ".py",
   "mimetype": "text/x-python",
   "name": "python",
   "nbconvert_exporter": "python",
   "pygments_lexer": "ipython3",
   "version": "3.9.18"
  }
 },
 "nbformat": 4,
 "nbformat_minor": 5
}
